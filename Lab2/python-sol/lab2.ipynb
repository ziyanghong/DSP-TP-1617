{
 "cells": [
  {
   "cell_type": "markdown",
   "metadata": {},
   "source": [
    "# Digital Signal Processing\n",
    "\n",
    "### MsCV - ViBOT - MAIA"
   ]
  },
  {
   "cell_type": "code",
   "execution_count": 7,
   "metadata": {
    "collapsed": false
   },
   "outputs": [
    {
     "name": "stderr",
     "output_type": "stream",
     "text": [
      "/home/lemaitre/anaconda/lib/python2.7/site-packages/matplotlib/font_manager.py:273: UserWarning: Matplotlib is building the font cache using fc-list. This may take a moment.\n",
      "  warnings.warn('Matplotlib is building the font cache using fc-list. This may take a moment.')\n"
     ]
    },
    {
     "name": "stdout",
     "output_type": "stream",
     "text": [
      "Pretty printing has been turned OFF\n"
     ]
    }
   ],
   "source": [
    "%matplotlib inline\n",
    "%pprint off\n",
    "\n",
    "# To make some nice plot\n",
    "import matplotlib.pyplot as plt\n",
    "# To play with arrays\n",
    "import numpy as np"
   ]
  },
  {
   "cell_type": "code",
   "execution_count": 8,
   "metadata": {
    "collapsed": true
   },
   "outputs": [],
   "source": [
    "def step(n=0, N=20):\n",
    "    # Check that the parameter are valid\n",
    "    if n > N - 1:\n",
    "        raise ValueError('n should be inferior to N-1')\n",
    "    \n",
    "    # Create the array\n",
    "    s = np.zeros((N, ))\n",
    "    # Create the ramp\n",
    "    for idx_s in np.arange(n, N):\n",
    "        s[idx_s] = 1\n",
    "    \n",
    "    return s"
   ]
  },
  {
   "cell_type": "code",
   "execution_count": 9,
   "metadata": {
    "collapsed": true
   },
   "outputs": [],
   "source": [
    "def dirac(n=0, N=20):\n",
    "    # Check that the parameter are valid\n",
    "    if n > N - 1:\n",
    "        raise ValueError('n should be inferior to N-1')\n",
    "    \n",
    "    # Create the array\n",
    "    s = np.zeros((N, ))\n",
    "    # Place the dirac\n",
    "    s[n] = 1\n",
    "    \n",
    "    return s"
   ]
  },
  {
   "cell_type": "code",
   "execution_count": 172,
   "metadata": {
    "collapsed": true
   },
   "outputs": [],
   "source": [
    "def geo(a=np.exp, n=0, N=20):\n",
    "    # Check that the parameter are valid\n",
    "    if n > N - 1:\n",
    "        raise ValueError('n should be inferior to N-1')\n",
    "    \n",
    "    # Create the array\n",
    "    s = np.zeros((N, ))\n",
    "    # Create the ramp\n",
    "    for incr, idx_s in enumerate(np.arange(n, N)):\n",
    "        s[idx_s] = a ** incr\n",
    "    \n",
    "    return s"
   ]
  },
  {
   "cell_type": "markdown",
   "metadata": {},
   "source": [
    "## Reminder 1 "
   ]
  },
  {
   "cell_type": "markdown",
   "metadata": {},
   "source": [
    "Plot $x(t) = sin(2\\pi f t)$,  $f = 1 Hz$"
   ]
  },
  {
   "cell_type": "code",
   "execution_count": 10,
   "metadata": {
    "collapsed": false
   },
   "outputs": [
    {
     "data": {
      "text/plain": [
       "<matplotlib.text.Text object at 0x7f490ef94b90>"
      ]
     },
     "execution_count": 10,
     "metadata": {},
     "output_type": "execute_result"
    },
    {
     "data": {
      "image/png": "[encoded data removed]",
      "text/plain": [
       "<matplotlib.figure.Figure object at 0x7f490f0f0850>"
      ]
     },
     "metadata": {},
     "output_type": "display_data"
    }
   ],
   "source": [
    "# samples from 0 to 2 with 0.01 steps \n",
    "t = np.arange(0, 2, 0.01)\n",
    "s = np.sin(2*np.pi*t)\n",
    "plt.figure\n",
    "plt.plot(s)\n",
    "plt.title('$sin(2\\pi t)$')\n",
    "plt.xlabel('t in sec')\n",
    "plt.ylabel('x(t)')"
   ]
  },
  {
   "cell_type": "markdown",
   "metadata": {},
   "source": [
    "Plot $x[n] = sin(2\\pi f n)$ with frequency step of $f_s$\n",
    "$$x[n] = sin(2\\pi\\frac{f}{f_s}n)$$"
   ]
  },
  {
   "cell_type": "code",
   "execution_count": 11,
   "metadata": {
    "collapsed": false
   },
   "outputs": [
    {
     "data": {
      "text/plain": [
       "<matplotlib.text.Text object at 0x7f490ada7650>"
      ]
     },
     "execution_count": 11,
     "metadata": {},
     "output_type": "execute_result"
    },
    {
     "data": {
      "image/png": "[encoded data removed]",
      "text/plain": [
       "<matplotlib.figure.Figure object at 0x7f490ef824d0>"
      ]
     },
     "metadata": {},
     "output_type": "display_data"
    }
   ],
   "source": [
    "n = np.arange(0,40,1)\n",
    "s = np.sin(0.1*np.pi*n)\n",
    "plt.figure\n",
    "plt.stem(s)\n",
    "plt.title('$sin(0.2 \\pi n)$')\n",
    "plt.xlabel('n')\n",
    "plt.ylabel('x[n]')"
   ]
  },
  {
   "cell_type": "markdown",
   "metadata": {},
   "source": [
    "## Exercise 1 - Causality"
   ]
  },
  {
   "cell_type": "markdown",
   "metadata": {},
   "source": [
    " **1.1** Considering the system defined by the equation $y_k=(x_k+x_{k+1})/2$, check its causality property by examining the response to the signal $H(k-4)$ or {\\tt step(4,N)}. \n"
   ]
  },
  {
   "cell_type": "code",
   "execution_count": 12,
   "metadata": {
    "collapsed": false
   },
   "outputs": [
    {
     "data": {
      "image/png": "[encoded data removed]",
      "text/plain": [
       "<matplotlib.figure.Figure object at 0x7f493049fad0>"
      ]
     },
     "metadata": {},
     "output_type": "display_data"
    },
    {
     "data": {
      "image/png": "[encoded data removed]",
      "text/plain": [
       "<matplotlib.figure.Figure object at 0x7f490ac5db10>"
      ]
     },
     "metadata": {},
     "output_type": "display_data"
    }
   ],
   "source": [
    "N = 10\n",
    "## Step function H(k-4)\n",
    "x = step(4,N) \n",
    "plt.figure\n",
    "plt.stem(x)\n",
    "plt.title('H(k-4)')\n",
    "plt.xlabel('n')\n",
    "plt.ylabel('x(k)')\n",
    "plt.show()\n",
    "\n",
    "## y(k) = (x(k)+x(k+1))/2\n",
    "y = np.zeros((N,))\n",
    "for i in range(0,N-1):\n",
    "    y[i] = (x[i]+x[i+1])/2\n",
    "\n",
    "plt.figure\n",
    "plt.stem(y)\n",
    "plt.title('$y_k = (x_k + x_{k+1})/2$')\n",
    "plt.show()\n",
    "\n",
    "\n"
   ]
  },
  {
   "cell_type": "markdown",
   "metadata": {},
   "source": [
    "**1.2** Propose a modification to obtain a causal version"
   ]
  },
  {
   "cell_type": "code",
   "execution_count": 13,
   "metadata": {
    "collapsed": false
   },
   "outputs": [
    {
     "data": {
      "image/png": "[encoded data removed]",
      "text/plain": [
       "<matplotlib.figure.Figure object at 0x7f490acdef50>"
      ]
     },
     "metadata": {},
     "output_type": "display_data"
    }
   ],
   "source": [
    "## y(k) = (x(k)+x(k-1))/2\n",
    "y = np.zeros((N,))\n",
    "for i in range(1,N):\n",
    "    y[i] = (x[i]+x[i-1])/2\n",
    "\n",
    "plt.figure\n",
    "plt.stem(y)\n",
    "plt.title('$y_k = (x_k + x_{k-1})/2$')\n",
    "plt.show()"
   ]
  },
  {
   "cell_type": "markdown",
   "metadata": {},
   "source": [
    "Comments on your observations"
   ]
  },
  {
   "cell_type": "markdown",
   "metadata": {},
   "source": []
  },
  {
   "cell_type": "markdown",
   "metadata": {},
   "source": [
    "## Exercise 2 - stability\n",
    "\n",
    "**2.1** Program the primitive (accumulator) operator `prim(f)` applied on the signal  `f` of length `N`. The value of the vector returned by `prim` at the index `k` will correspond to $F_k$ with `k` $\\leq$ `N`. Note $F_k=\\sum_{q=-\\infty}^{k}f_k$. Discuss on the result of the primitive operator applied to the signal $H(k-4)$. Is the primitive operator stable ?\n",
    "\n"
   ]
  },
  {
   "cell_type": "code",
   "execution_count": 14,
   "metadata": {
    "collapsed": false
   },
   "outputs": [],
   "source": [
    "def prim(f):\n",
    "    F = np.zeros((N,))\n",
    "    F[0] = f[0]\n",
    "    for i in range (1, len(f)):\n",
    "        F[i] = F[i-1]+f[i]*1 \n",
    "    \n",
    "    return F"
   ]
  },
  {
   "cell_type": "code",
   "execution_count": 15,
   "metadata": {
    "collapsed": false
   },
   "outputs": [
    {
     "data": {
      "text/plain": [
       "<matplotlib.text.Text object at 0x7f490aa2f250>"
      ]
     },
     "execution_count": 15,
     "metadata": {},
     "output_type": "execute_result"
    },
    {
     "data": {
      "image/png": "[encoded data removed]",
      "text/plain": [
       "<matplotlib.figure.Figure object at 0x7f490ae4c3d0>"
      ]
     },
     "metadata": {},
     "output_type": "display_data"
    }
   ],
   "source": [
    "N = 10\n",
    "f = step(4,N)\n",
    "F = prim(f)\n",
    "\n",
    "plt.figure\n",
    "plt.stem(F)\n",
    "plt.stem(f, 'r', markerfmt='ro')\n",
    "plt.title('Prim function applied on H(k-4)')\n",
    "\n",
    "\n"
   ]
  },
  {
   "cell_type": "markdown",
   "metadata": {},
   "source": [
    "**2.2** What is the impulse response of the primitive operator (in the discrete domain) ?"
   ]
  },
  {
   "cell_type": "code",
   "execution_count": 16,
   "metadata": {
    "collapsed": false
   },
   "outputs": [
    {
     "data": {
      "text/plain": [
       "<matplotlib.text.Text object at 0x7f490a9c4a10>"
      ]
     },
     "execution_count": 16,
     "metadata": {},
     "output_type": "execute_result"
    },
    {
     "data": {
      "image/png": "[encoded data removed]",
      "text/plain": [
       "<matplotlib.figure.Figure object at 0x7f490b3bf590>"
      ]
     },
     "metadata": {},
     "output_type": "display_data"
    }
   ],
   "source": [
    "f = dirac(4,N)\n",
    "F = prim(f)\n",
    "\n",
    "plt.figure\n",
    "plt.stem(F)\n",
    "plt.stem(f, 'r', markerfmt='ro')\n",
    "plt.title('Prim function applied on $\\delta$(k-4)')\n"
   ]
  },
  {
   "cell_type": "markdown",
   "metadata": {},
   "source": [
    "**2.3** Test the stability of the system defined by the equation: $y_k=x_k+2y_{k-1}$. Plot the impulse response."
   ]
  },
  {
   "cell_type": "code",
   "execution_count": 17,
   "metadata": {
    "collapsed": false
   },
   "outputs": [
    {
     "data": {
      "text/plain": [
       "<matplotlib.text.Text object at 0x7f490aa43310>"
      ]
     },
     "execution_count": 17,
     "metadata": {},
     "output_type": "execute_result"
    },
    {
     "data": {
      "image/png": "[encoded data removed]",
      "text/plain": [
       "<matplotlib.figure.Figure object at 0x7f490a8bb210>"
      ]
     },
     "metadata": {},
     "output_type": "display_data"
    }
   ],
   "source": [
    "x = dirac(4,N)\n",
    "y = np.zeros((N,))\n",
    "y[0] = x[0]\n",
    "for i in range(1,N):\n",
    "    y[i] = x[i]+ 2*y[i-1]\n",
    "\n",
    "plt.figure\n",
    "plt.stem(y)\n",
    "plt.stem(x, 'r', markerfmt='ro')\n",
    "plt.title('impulse response of $y_k=x_k+2y_{k-1}$')\n"
   ]
  },
  {
   "cell_type": "markdown",
   "metadata": {},
   "source": [
    "**2.4** Test the stability of the system defined by the equation: $y_k=x_k+y_{k-1}/3$. \n",
    "\n",
    "Plot the impulse response."
   ]
  },
  {
   "cell_type": "code",
   "execution_count": 18,
   "metadata": {
    "collapsed": false
   },
   "outputs": [
    {
     "data": {
      "text/plain": [
       "<matplotlib.text.Text object at 0x7f490ab96890>"
      ]
     },
     "execution_count": 18,
     "metadata": {},
     "output_type": "execute_result"
    },
    {
     "data": {
      "image/png": "[encoded data removed]",
      "text/plain": [
       "<matplotlib.figure.Figure object at 0x7f490a7e4250>"
      ]
     },
     "metadata": {},
     "output_type": "display_data"
    }
   ],
   "source": [
    "x = dirac(4,N)\n",
    "y = np.zeros((N,))\n",
    "y[0] = x[0]\n",
    "for i in range(1,N):\n",
    "    y[i] = x[i]+ (y[i-1]/3)\n",
    "\n",
    "plt.figure\n",
    "plt.stem(y)\n",
    "plt.stem(x, 'r', markerfmt='ro')\n",
    "plt.title('impulse response of $y_k=x_k+y_{k-1}/3$')"
   ]
  },
  {
   "cell_type": "markdown",
   "metadata": {},
   "source": [
    "Comments your observations"
   ]
  },
  {
   "cell_type": "markdown",
   "metadata": {},
   "source": []
  },
  {
   "cell_type": "markdown",
   "metadata": {},
   "source": [
    "## Excercise 3 - Invariance and linearity\n",
    " \n",
    "\n",
    "**3.1** Define the following signals: ${\\tt x_a=[0\\, 0\\,  0 \\, 0 \\, 1 \\, 2 \\, 3 \\, 4 \\, 5 \\, 0 \\, 0 \\, 0 \\, 0\\,  0\\,  0\\,  0\\,  0\\,  0\\,  0]; x_b=[0\\,  0 \\, 0 \\, 0 \\, 0 \\, 0 \\, 0 \\, 0 \\, 0 \\, 4 \\, 3 \\, 2 \\, 1 \\, 0 \\, 0 \\, 0 \\, 0 \\, 0 \\, 0];}$. Compute the responses $y_a$, $y_b$ according to the equation $y=3x_{k-1}-2x_k+x_{k+1}$\n",
    "\n",
    "plot your responses with their corresponding input.\n"
   ]
  },
  {
   "cell_type": "code",
   "execution_count": 19,
   "metadata": {
    "collapsed": false
   },
   "outputs": [
    {
     "data": {
      "image/png": "[encoded data removed]",
      "text/plain": [
       "<matplotlib.figure.Figure object at 0x7f490a8a6b50>"
      ]
     },
     "metadata": {},
     "output_type": "display_data"
    },
    {
     "data": {
      "image/png": "[encoded data removed]",
      "text/plain": [
       "<matplotlib.figure.Figure object at 0x7f490a72c190>"
      ]
     },
     "metadata": {},
     "output_type": "display_data"
    }
   ],
   "source": [
    "x_a = np.array([0, 0, 0, 1, 2, 3, 4, 5, 0, 0, 0, 0, 0, 0, 0, 0, 0, 0])\n",
    "x_b = np.array([0, 0, 0, 0, 0, 0, 0, 0, 4, 3, 2, 1, 0, 0, 0, 0, 0, 0])\n",
    "N = len(x_a)\n",
    "y_a = np.zeros((N,))\n",
    "y_b = np.zeros((N,))\n",
    "for i in range (1, N - 1):\n",
    "    y_a[i] = 3. * x_a[i - 1] - 2. * x_a[i] + x_a[i + 1]\n",
    "    y_b[i] = 3. * x_b[i - 1] - 2. * x_b[i] + x_b[i + 1]\n",
    "\n",
    "plt.figure\n",
    "plt.stem(y_a)\n",
    "plt.stem(x_a, 'r-', markerfmt='ro')\n",
    "plt.title('$x_a$ and $y_a$ in red and blue respectively')\n",
    "plt.show()\n",
    "    \n",
    "plt.figure\n",
    "plt.stem(y_b)\n",
    "plt.stem(x_b, 'r-', markerfmt='ro')\n",
    "plt.title('$x_b$ and $y_b$ in red and blue respectively')\n",
    "plt.show()\n",
    "        "
   ]
  },
  {
   "cell_type": "markdown",
   "metadata": {},
   "source": [
    "**3.2** Prove the system defined by the previous equation is linear (and invariant). Write the equation as a convolution equation.\n"
   ]
  },
  {
   "cell_type": "code",
   "execution_count": 20,
   "metadata": {
    "collapsed": false
   },
   "outputs": [
    {
     "name": "stdout",
     "output_type": "stream",
     "text": [
      "[ 0.  0.  0.  0.  0.  0.  0.  0.  0.  0.  0.  0.  0.  0.  0.  0.  0.  0.]\n"
     ]
    },
    {
     "data": {
      "image/png": "[encoded data removed]",
      "text/plain": [
       "<matplotlib.figure.Figure object at 0x7f490a927ad0>"
      ]
     },
     "metadata": {},
     "output_type": "display_data"
    }
   ],
   "source": [
    "x = x_a + x_b\n",
    "\n",
    "y = np.zeros((N,))\n",
    "\n",
    "for i in range(1, N - 1):\n",
    "    y[i]= 3. * x[i - 1] - 2. * x[i] + x[i + 1]\n",
    "\n",
    "da = y - (y_a + y_b)\n",
    "print da\n",
    "plt.figure\n",
    "plt.stem(y)\n",
    "plt.stem(y_a + y_b, 'r-',markerfmt='ro')\n",
    "plt.title('$y$ and $y_a+y_b$ in red and blue respectively')\n",
    "plt.show()"
   ]
  },
  {
   "cell_type": "markdown",
   "metadata": {},
   "source": [
    "**3.3** Propose a nonlinear/noninvariant system."
   ]
  },
  {
   "cell_type": "code",
   "execution_count": null,
   "metadata": {
    "collapsed": false
   },
   "outputs": [],
   "source": []
  }
 ],
 "metadata": {
  "anaconda-cloud": {},
  "kernelspec": {
   "display_name": "Python 2",
   "language": "python",
   "name": "python2"
  },
  "language_info": {
   "codemirror_mode": {
    "name": "ipython",
    "version": 2
   },
   "file_extension": ".py",
   "mimetype": "text/x-python",
   "name": "python",
   "nbconvert_exporter": "python",
   "pygments_lexer": "ipython2",
   "version": "2.7.11"
  }
 },
 "nbformat": 4,
 "nbformat_minor": 1
}
